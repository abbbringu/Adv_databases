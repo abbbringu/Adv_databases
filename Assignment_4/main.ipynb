{
 "cells": [
  {
   "cell_type": "markdown",
   "id": "1d8e74db",
   "metadata": {},
   "source": [
    "# Assignment 3\n",
    "## Group 26\n",
    "Brian Nguyen and Kristoffer Reimertz"
   ]
  },
  {
   "cell_type": "code",
   "execution_count": null,
   "id": "f5811997",
   "metadata": {},
   "outputs": [],
   "source": [
    "#endpoint_url = \"http://localhost:7200/repositories/DIT930/statements\""
   ]
  },
  {
   "cell_type": "markdown",
   "id": "4d6b3e23",
   "metadata": {},
   "source": [
    "# Student"
   ]
  },
  {
   "cell_type": "code",
   "execution_count": null,
   "id": "f0add877",
   "metadata": {},
   "outputs": [
    {
     "name": "stdout",
     "output_type": "stream",
     "text": [
      "Wrote insert_students.rq\n",
      "Successfully inserted all students\n",
      "PREFIX :   <http://www.semanticweb.org/user/ontologies/2025/3/untitled-ontology-3/>\n",
      "PREFIX rdf: <http://www.w3.org/1999/02/22-rdf-syntax-ns#>\n",
      "PREFIX xsd: <http://www.w3.org/2001/XMLSchema#>\n",
      "INSERT DATA {\n",
      "  :19970308-0000 rdf:type       :Student ;\n",
      "          :name         \"Student 1\" ;\n",
      "          :personId         \"19970308-0000\" ;\n",
      "          :StudentInProgramme   <http://www.semanticweb.org/user/ontologies/2025/3/untitled-ontology-3/10054> ;\n",
      "          :yearJoined  \"2017\"^^xsd:integer ;\n",
      "          :g\n"
     ]
    }
   ],
   "source": [
    "import pandas as pd\n",
    "import requests\n",
    "\n",
    "df = pd.read_csv(\"./data/students.csv\")\n",
    "df = df[df[\"Student name\"].str.startswith(\"Student \")]"
   ]
  },
  {
   "cell_type": "code",
   "execution_count": null,
   "id": "ee85a3ec",
   "metadata": {},
   "outputs": [
    {
     "name": "stdout",
     "output_type": "stream",
     "text": [
      "Wrote insert_students.rq\n",
      "Successfully inserted all students\n",
      "PREFIX :   <http://www.semanticweb.org/user/ontologies/2025/3/untitled-ontology-3/>\n",
      "PREFIX rdf: <http://www.w3.org/1999/02/22-rdf-syntax-ns#>\n",
      "PREFIX xsd: <http://www.w3.org/2001/XMLSchema#>\n",
      "INSERT DATA {\n",
      "  :19781125-0031 \n",
      "          :StudentInProgramme   <http://www.semanticweb.org/user/ontologies/2025/3/untitled-ontology-3/10052> ;\n",
      "          :yearJoined  \"2005\"^^xsd:integer ;\n",
      "          :graduated    \"true\"^^xsd:boolean .\n",
      "  \n",
      "  :19750906-0032 \n",
      "          :StudentInProgramme   <http://www.semanticwe\n"
     ]
    }
   ],
   "source": [
    "import pandas as pd\n",
    "import requests\n",
    "\n",
    "df = pd.read_csv(\"./data/students.csv\")\n",
    "df = df[df[\"Student name\"].str.startswith(\"TA \")]"
   ]
  },
  {
   "cell_type": "markdown",
   "id": "fca38556",
   "metadata": {},
   "source": [
    "# Teachers"
   ]
  },
  {
   "cell_type": "code",
   "execution_count": null,
   "id": "f07f9136",
   "metadata": {},
   "outputs": [
    {
     "name": "stdout",
     "output_type": "stream",
     "text": [
      "Wrote insert_students.rq\n",
      "Successfully inserted all students\n",
      "PREFIX :   <http://www.semanticweb.org/user/ontologies/2025/3/untitled-ontology-3/>\n",
      "PREFIX rdf: <http://www.w3.org/1999/02/22-rdf-syntax-ns#>\n",
      "\n",
      "INSERT DATA {\n",
      "  :19630126-0001 rdf:type       :SeniorTeacher ;\n",
      "          :name         \"Teacher 1\" ;\n",
      "          :personId         \"19630126-0001\" ;\n",
      "          :TeacherInDivision   <http://www.semanticweb.org/user/ontologies/2025/3/untitled-ontology-3/D4-3> .\n",
      "  \n",
      "  :19600814-0002 rdf:type       :SeniorTeacher ;\n",
      "          :name         \"Teacher 2\" ;\n",
      "          \n"
     ]
    }
   ],
   "source": [
    "\n",
    "df = pd.read_csv(\"./data/Senior_Teachers.csv\")"
   ]
  },
  {
   "cell_type": "code",
   "execution_count": null,
   "id": "51513e3b",
   "metadata": {},
   "outputs": [
    {
     "name": "stdout",
     "output_type": "stream",
     "text": [
      "Successfully inserted all students\n",
      "PREFIX :   <http://www.semanticweb.org/user/ontologies/2025/3/untitled-ontology-3/>\n",
      "PREFIX rdf: <http://www.w3.org/1999/02/22-rdf-syntax-ns#>\n",
      "\n",
      "INSERT DATA {\n",
      "  :19781125-0031 rdf:type       :TeachingAssistant ;\n",
      "          :name         \"TA 31\" ;\n",
      "          :personId         \"19781125-0031\" ;\n",
      "          :TeacherInDivision   <http://www.semanticweb.org/user/ontologies/2025/3/untitled-ontology-3/D6-0> .\n",
      "  \n",
      "  :19750906-0032 rdf:type       :TeachingAssistant ;\n",
      "          :name         \"TA 32\" ;\n",
      "          \n"
     ]
    }
   ],
   "source": [
    "\n",
    "df = pd.read_csv(\"./data/Teaching_Assistants.csv\")\n"
   ]
  },
  {
   "cell_type": "markdown",
   "id": "e8e0e587",
   "metadata": {},
   "source": [
    "# Department"
   ]
  },
  {
   "cell_type": "code",
   "execution_count": 1,
   "id": "abc7c238",
   "metadata": {},
   "outputs": [
    {
     "name": "stdout",
     "output_type": "stream",
     "text": [
      "Found 8 unique departments: {'D5', 'D2', 'D3', 'D1', 'D6', 'D7', 'D8', 'D4'}\n"
     ]
    },
    {
     "data": {
      "text/plain": [
       "{'D1', 'D2', 'D3', 'D4', 'D5', 'D6', 'D7', 'D8'}"
      ]
     },
     "execution_count": 1,
     "metadata": {},
     "output_type": "execute_result"
    }
   ],
   "source": [
    "import glob\n",
    "import pandas as pd\n",
    "import requests\n",
    "\n",
    "csv_files = glob.glob(\"./data/*.csv\")\n",
    "\n",
    "# get all unique dept names\n",
    "dept_vals = set()\n",
    "for path in csv_files:\n",
    "    df = pd.read_csv(path, dtype=str)\n",
    "    for col in (\"Department name\", \"Department\"):\n",
    "        if col in df.columns:\n",
    "            dept_vals.update(df[col].dropna().unique())\n",
    "\n",
    "print(f\"Found {len(dept_vals)} unique departments:\", dept_vals)\n",
    "\n",
    "dept_vals"
   ]
  },
  {
   "cell_type": "markdown",
   "id": "52aa6dd9",
   "metadata": {},
   "source": [
    "# Division"
   ]
  },
  {
   "cell_type": "code",
   "execution_count": 5,
   "id": "c76bbe5f",
   "metadata": {},
   "outputs": [],
   "source": [
    "import glob\n",
    "import pandas as pd\n",
    "\n",
    "csv_files = glob.glob(\"./data/*.csv\")\n",
    "\n",
    "div_codes = set()\n",
    "for path in csv_files:\n",
    "    df = pd.read_csv(path, dtype=str)\n",
    "    if \"Division name\" in df.columns:\n",
    "        div_codes.update(df[\"Division name\"].dropna().unique())\n",
    "\n",
    "records = []\n",
    "for code in sorted(div_codes):\n",
    "    dept_id, _ = code.split(\"-\", 1)\n",
    "    records.append({\n",
    "        \"division_id\": code,\n",
    "        \"department\": dept_id\n",
    "    })\n",
    "div_df = pd.DataFrame(records)\n",
    "div_df.to_csv(\"./output/division.csv\", index=False)"
   ]
  },
  {
   "cell_type": "markdown",
   "id": "833e0954",
   "metadata": {},
   "source": [
    "# Programme"
   ]
  },
  {
   "cell_type": "code",
   "execution_count": null,
   "id": "11cdc903",
   "metadata": {},
   "outputs": [
    {
     "name": "stdout",
     "output_type": "stream",
     "text": [
      "Successfully inserted all data\n",
      "PREFIX :   <http://www.semanticweb.org/user/ontologies/2025/3/untitled-ontology-3/>\n",
      "PREFIX rdf: <http://www.w3.org/1999/02/22-rdf-syntax-ns#>\n",
      "PREFIX xsd: <http://www.w3.org/2001/XMLSchema#>\n",
      "INSERT DATA {\n",
      "  :10001 rdf:type                :Programme ;\n",
      "          :programmeName          \"P-01\" ;\n",
      "          :programmeCode          \"10001\"^^xsd:integer ;\n",
      "          :ProgrammeInDepartment  <http://www.semanticweb.org/user/ontologies/2025/3/untitled-ontology-3/D1> ;\n",
      "          :DirectorOfProgramme     <htt\n"
     ]
    }
   ],
   "source": [
    "import pandas as pd\n",
    "import requests\n",
    "df = pd.read_csv(\"./data/Programmes.csv\")\n",
    "\n",
    "for _, row in df.iterrows():\n",
    "    subj = f\":{row['Programme code']}\".replace(\" \", \"_\")\n",
    "\n",
    "    triples.append(f\"{subj} rdf:type                :Programme ;\")\n",
    "\n",
    "    # attr\n",
    "    triples.append(f\"        :programmeName          \\\"{row['Programme name']}\\\" ;\")\n",
    "    triples.append(f\"        :programmeCode          \\\"{int(row['Programme code'])}\\\"^^xsd:integer ;\")\n",
    "\n",
    "    # relations\n",
    "    triples.append(f\"        :ProgrammeInDepartment  <{base_uri}{row['Department name']}> ;\")\n",
    "    triples.append(f\"        :DirectorOfProgramme     <{base_uri}{row['Director']}> .\")\n",
    "    triples.append(\"\")"
   ]
  },
  {
   "cell_type": "markdown",
   "id": "083e27d7",
   "metadata": {},
   "source": [
    "# Programme course"
   ]
  },
  {
   "cell_type": "code",
   "execution_count": null,
   "id": "2e94f196",
   "metadata": {},
   "outputs": [
    {
     "name": "stdout",
     "output_type": "stream",
     "text": [
      "Successfully inserted all data\n",
      "PREFIX :   <http://www.semanticweb.org/user/ontologies/2025/3/untitled-ontology-3/>\n",
      "PREFIX rdf: <http://www.w3.org/1999/02/22-rdf-syntax-ns#>\n",
      "PREFIX xsd: <http://www.w3.org/2001/XMLSchema#>\n",
      "INSERT DATA {\n",
      "  :10001_1204_2013-2014_1.0 rdf:type                :ProgrammeCourse ;\n",
      "          :academicYear          \"2013-2014\" ;\n",
      "          :courseType          \"compulsory\" ;\n",
      "          :studyYear          \"1\"^^xsd:integer ;\n",
      "          :ProgrammeInProgrammeCourse  <http://www.semanticweb.org/user/ontologies/\n",
      "5531\n"
     ]
    }
   ],
   "source": [
    "import pandas as pd\n",
    "import requests\n",
    "df = pd.read_csv(\"./data/Programme_Courses.csv\")\n",
    "\n",
    "\n",
    "triples = []\n",
    "test = 1\n",
    "for _, row in df.iterrows():\n",
    "    p_code = f\"{row['Programme code']}\".replace(\" \", \"_\")\n",
    "    c_code = f\"{row['Course code']}\".replace(\" \", \"_\")\n",
    "    sy_code = f\"{row['Study Year']}\".replace(\" \", \"_\")\n",
    "    academic_year = f\"{row['Academic Year']}\".replace(\" \", \"_\")\n",
    "    subj = f\":{p_code}_{c_code}_{academic_year}_{sy_code}\"\n",
    "    \n",
    "    # subject\n",
    "    triples.append(f\"{subj} rdf:type                :ProgrammeCourse ;\")\n",
    "    \n",
    "    # Attributes\n",
    "    triples.append(f\"        :academicYear          \\\"{row['Academic Year']}\\\" ;\")\n",
    "    triples.append(f\"        :courseType          \\\"{row['Course Type']}\\\" ;\")\n",
    "    triples.append(f\"        :studyYear          \\\"{int(row['Study Year'])}\\\"^^xsd:integer ;\")\n",
    "    \n",
    "    # \"Relations\"\n",
    "    triples.append(f\"        :ProgrammeInProgrammeCourse  <{base_uri}{row['Programme code']}> ;\")\n",
    "    triples.append(f\"        :CourseInProgrammeCourse     <{base_uri}{row['Course code']}> .\")\n",
    "    triples.append(\"\")  # blank line\n"
   ]
  },
  {
   "cell_type": "markdown",
   "id": "2180c385",
   "metadata": {},
   "source": [
    "# Course"
   ]
  },
  {
   "cell_type": "code",
   "execution_count": null,
   "id": "d1a139d0",
   "metadata": {},
   "outputs": [
    {
     "name": "stdout",
     "output_type": "stream",
     "text": [
      "Successfully inserted all data\n",
      "PREFIX :   <http://www.semanticweb.org/user/ontologies/2025/3/untitled-ontology-3/>\n",
      "PREFIX rdf: <http://www.w3.org/1999/02/22-rdf-syntax-ns#>\n",
      "PREFIX xsd: <http://www.w3.org/2001/XMLSchema#>\n",
      "INSERT DATA {\n",
      "  :1001 rdf:type                :Course ;\n",
      "          :courseCode          \"1001\"^^xsd:integer ;\n",
      "          :courseName          \"C-1\" ;\n",
      "          :credits          \"7.5\"^^xsd:double ;\n",
      "          :level          \"First Cycle\" ;\n",
      "          :CourseInDivision     <http://www.semanticweb.org/user/ontologies/2025/3/untitled-ontology-3/D4-5> ;\n",
      "          :CourseOwnedByProgramme     <http://www.semanticweb.org/user/ontologies/2025/3/untitled-ontology-3/P-32> .\n",
      "  \n",
      "  :1002 rdf:type                :Course ;\n",
      "          :courseCode          \"1002\"^^xsd:integer ;\n",
      "          :courseName          \"C-2\" ;\n",
      "          :credits          \"7.5\"^^xsd:double ;\n",
      "          :level          \"First Cycle\" ;\n",
      "          :CourseInDivision     <http://www.semanticweb.org/user/ontologies/2025/3/untitled-ontology-3/D6-5> ;\n",
      "          :CourseOwnedByProgramme     <http://www.semanticweb.org/user/ontologies/2025/3/untitled-ontology-3/P-51> .\n",
      "  \n",
      "  :1003 rdf:type                :Course ;\n",
      "          :courseCode          \"1003\"^^xsd:integer ;\n",
      "          :courseName          \"C-3\" ;\n",
      "          :credits          \"7.5\"^^xsd:double ;\n",
      "          :level          \"Second Cycle\" ;\n",
      "          :CourseInDivision     <http://www.semanticweb.org/user/ontologies/2025/3/untitled-ontology-3/D5-3> ;\n",
      "          :CourseOwnedByProgramme     <http://www.\n"
     ]
    }
   ],
   "source": [
    "import pandas as pd\n",
    "import requests\n",
    "df = pd.read_csv(\"./data/Courses.csv\")\n",
    "\n",
    "\n",
    "triples = []\n",
    "\n",
    "for _, row in df.iterrows():\n",
    "\n",
    "    c_code = f\"{row['Course code']}\".replace(\" \", \"_\")\n",
    "    subj = f\":{c_code}\"\n",
    "    object_uri = f\"{p_code}_{c_code}_{academic_year}\"\n",
    "\n",
    "    # subject\n",
    "    triples.append(f\"{subj} rdf:type                :Course ;\")\n",
    "    \n",
    "    # Attributes\n",
    "    triples.append(f\"        :courseCode          \\\"{int(row['Course code'])}\\\"^^xsd:integer ;\")\n",
    "    triples.append(f\"        :courseName          \\\"{row['Course name']}\\\" ;\")\n",
    "    triples.append(f\"        :credits          \\\"{row['Credits']}\\\"^^xsd:double ;\")\n",
    "    triples.append(f\"        :level          \\\"{row['Level']}\\\" ;\")\n",
    "    \n",
    "    # \"Relations\"\n",
    "    triples.append(f\"        :CourseInDivision     <{base_uri}{row['Division name']}> ;\")\n",
    "    triples.append(f\"        :CourseOwnedByProgramme     <{base_uri}{row['Owned By']}> .\")\n",
    "    triples.append(\"\")  # blank line"
   ]
  },
  {
   "cell_type": "markdown",
   "id": "e287ba56",
   "metadata": {},
   "source": [
    "# Course Instance"
   ]
  },
  {
   "cell_type": "code",
   "execution_count": 6,
   "id": "cf3b5650",
   "metadata": {},
   "outputs": [],
   "source": [
    "import pandas as pd\n",
    "df_instances  = pd.read_csv(\"./data/Course_Instances.csv\")\n",
    "df_plannings  = pd.read_csv(\"./data/Course_plannings.csv\")\n",
    "\n",
    "merged_df = pd.merge(\n",
    "    df_instances,\n",
    "    df_plannings,\n",
    "    how=\"inner\",\n",
    "    left_on=\"Instance_id\",\n",
    "    right_on=\"Course\"\n",
    ")\n",
    "\n",
    "\n",
    "merged_df = merged_df.drop(columns=\"Course\")\n",
    "\n",
    "\n",
    "merged_df.tail()\n",
    "merged_df.to_csv(\"./output/course_instance.csv\", index=False)"
   ]
  },
  {
   "cell_type": "code",
   "execution_count": null,
   "id": "e6f5c6a2",
   "metadata": {},
   "outputs": [
    {
     "name": "stdout",
     "output_type": "stream",
     "text": [
      "Successfully inserted all data\n",
      "PREFIX :   <http://www.semanticweb.org/user/ontologies/2025/3/untitled-ontology-3/>\n",
      "PREFIX rdf: <http://www.w3.org/1999/02/22-rdf-syntax-ns#>\n",
      "PREFIX xsd: <http://www.w3.org/2001/XMLSchema#>\n",
      "INSERT DATA {\n",
      "  :1204_I-1 rdf:type                :CourseInstance ;\n",
      "          :assistantHours          \"300\"^^xsd:double ;\n",
      "          :academicYear          \"2013-2014\" ;\n",
      "          :instanceId          \"I-1\" ;\n",
      "          :seniorHours          \"280\"^^xsd:double ;\n",
      "          :planningNumStudent          \"50\"^^xsd:\n"
     ]
    }
   ],
   "source": [
    "import pandas as pd\n",
    "import requests\n",
    "df = merged_df\n",
    "\n",
    "\n",
    "triples = []\n",
    "for _, row in df.iterrows():\n",
    "    c_code = f\"{row['Course code']}\".replace(\" \", \"_\")\n",
    "    i_code = f\"{row['Instance_id']}\".replace(\" \", \"_\")\n",
    "    subj = f\":{c_code}_{i_code}\"\n",
    "    object_uri = f\"{p_code}_{c_code}_{academic_year}\"\n",
    "\n",
    "    # subject\n",
    "    triples.append(f\"{subj} rdf:type                :CourseInstance ;\")\n",
    "    \n",
    "    # Attributes\n",
    "    triples.append(f\"        :assistantHours          \\\"{row['Assistant Hours']}\\\"^^xsd:double ;\")\n",
    "    triples.append(f\"        :academicYear          \\\"{row['Academic year']}\\\" ;\")\n",
    "    triples.append(f\"        :instanceId          \\\"{row['Instance_id']}\\\" ;\")\n",
    "    triples.append(f\"        :seniorHours          \\\"{row['Senior Hours']}\\\"^^xsd:double ;\")\n",
    "    triples.append(f\"        :planningNumStudent          \\\"{int(row['Planned number of Students'])}\\\"^^xsd:integer ;\")\n",
    "    triples.append(f\"        :studyYear          \\\"{int(row['Study period'])}\\\"^^xsd:integer ;\")\n",
    "\n",
    "    # \"Relations\"\n",
    "    triples.append(f\"        :CourseInCourseInstance     <{base_uri}{row['Course code']}> ;\")\n",
    "    triples.append(f\"        :ExaminerOfCourseInstance     <{base_uri}{row['Examiner']}> .\")\n",
    "    triples.append(\"\")  # blank line\n"
   ]
  },
  {
   "cell_type": "markdown",
   "id": "31b508c0",
   "metadata": {},
   "source": [
    "# Registration"
   ]
  },
  {
   "cell_type": "code",
   "execution_count": 8,
   "id": "258d6036",
   "metadata": {},
   "outputs": [
    {
     "name": "stdout",
     "output_type": "stream",
     "text": [
      "  Course Instance     Student id     Status  Grade  Course_code\n",
      "0          I-1494  19860309-0002  completed    3.0         1127\n",
      "1          I-3997  19860309-0002  completed    4.0         1122\n",
      "2           I-658  19860309-0002  completed    3.0         1263\n",
      "3          I-1499  19860309-0002  completed    4.0         1040\n",
      "4          I-1496  19860309-0002  completed    4.0         1271\n"
     ]
    }
   ],
   "source": [
    "import pandas as pd\n",
    "df           = pd.read_csv(\"./data/Registrations.csv\")\n",
    "df_instances = pd.read_csv(\"./data/Course_Instances.csv\")\n",
    "\n",
    "\n",
    "merged = df.merge(\n",
    "    df_instances[['Instance_id', 'Course_code']],\n",
    "    left_on='Course Instance',\n",
    "    right_on='Instance_id',\n",
    "    how='left'\n",
    ")\n",
    "\n",
    "merged = merged.drop(columns=['Instance_id']) # dup\n",
    "print(merged.head())\n",
    "merged.to_csv(\"./output/registration.csv\", index=False)"
   ]
  },
  {
   "cell_type": "code",
   "execution_count": null,
   "id": "5bbe2fa5",
   "metadata": {},
   "outputs": [
    {
     "name": "stdout",
     "output_type": "stream",
     "text": [
      "Successfully inserted all data\n",
      "PREFIX :   <http://www.semanticweb.org/user/ontologies/2025/3/untitled-ontology-3/>\n",
      "PREFIX rdf: <http://www.w3.org/1999/02/22-rdf-syntax-ns#>\n",
      "PREFIX xsd: <http://www.w3.org/2001/XMLSchema#>\n",
      "INSERT DATA {\n",
      "  :I-1494_19860309-0002 rdf:type                :Registration ;\n",
      "          :status          \"completed\" ;\n",
      "          :grade          \"3.0\"^^xsd:integer ;\n",
      "          :RegistrationHasCourse     <http://www.semanticweb.org/user/ontologies/2025/3/untitled-ontology-3/1127_I-1494> ;\n",
      "          :RegistrationHasStudent     <http://www.semanticweb.org/user/ontologies/2025/3/untitled-ontology-3/19860309-0002> .\n",
      "  \n",
      "  :I-3997_19860309-0002 rdf:type                :Registration ;\n",
      "          :status          \"completed\" ;\n",
      "          :grade          \"4.0\"^^xsd:integer ;\n",
      "          :RegistrationHasCourse     <http://www.semanticweb.org/user/ontologies/2025/3/untitled-ontology-3/1122_I-3997> ;\n",
      "          :RegistrationHasStudent     <http://www.semanticweb.org/user/ontologies/2025/3/untitled-ontology-3/19860309\n"
     ]
    }
   ],
   "source": [
    "import pandas as pd\n",
    "import requests\n",
    "df = merged\n",
    "\n",
    "triples = []\n",
    "\n",
    "\n",
    "for _, row in df.iterrows():\n",
    "    i_code = f\"{row['Course Instance']}\".replace(\" \", \"_\")\n",
    "    s_code = f\"{row['Student id']}\".replace(\" \", \"_\")\n",
    "    subj = f\":{i_code}_{s_code}\"\n",
    "\n",
    "    c_code = f\"{row['Course code']}\".replace(\" \", \"_\")\n",
    "    course_instance_object = f\"{c_code}_{i_code}\"\n",
    "\n",
    "\n",
    "    # subject\n",
    "    triples.append(f\"{subj} rdf:type                :Registration ;\")\n",
    "\n",
    "    # Attributes\n",
    "    triples.append(f\"        :status          \\\"{row['Status']}\\\" ;\")\n",
    "    triples.append(f\"        :grade          \\\"{row['Grade']}\\\"^^xsd:integer ;\")\n",
    "\n",
    "    # \"Relations\"\n",
    "    triples.append(f\"        :RegistrationHasCourse     <{base_uri}{course_instance_object}> ;\")\n",
    "    triples.append(f\"        :RegistrationHasStudent     <{base_uri}{row['Student id']}> .\")\n",
    "    triples.append(\"\")  # blank line\n"
   ]
  },
  {
   "cell_type": "markdown",
   "id": "6f3a5d20",
   "metadata": {},
   "source": [
    "# TeachHoursInCourseInstance"
   ]
  },
  {
   "cell_type": "code",
   "execution_count": 11,
   "id": "653feaeb",
   "metadata": {},
   "outputs": [],
   "source": [
    "import pandas as pd\n",
    "import numpy as np\n",
    "\n",
    "df           = pd.read_csv(\"./data/Course_plannings.csv\")\n",
    "df_instances = pd.read_csv(\"./data/Reported_Hours.csv\")\n",
    "\n",
    "# Merge files\n",
    "merged = df.merge(\n",
    "    df_instances[['Course code', 'Teacher Id', 'Hours']],\n",
    "    left_on='Course',\n",
    "    right_on='Course code',\n",
    "    how='left'\n",
    ")\n",
    "\n",
    "merged = merged.drop(columns=['Course code']) # dup\n",
    "\n",
    "df = merged\n",
    "senior_df = pd.read_csv(\"./data/Senior_Teachers.csv\")  # has column: Teacher\n",
    "\n",
    "seniors = set(senior_df[\"Teacher name\"])\n",
    "\n",
    "df[\"Assigned Hours\"] = np.where(\n",
    "    df[\"Teacher Id\"].isin(seniors),       # if the Teacher is a senior…\n",
    "    df[\"Senior Hours\"],                # if true take this\n",
    "    df[\"Assistant Hours\"]              # else\n",
    ")\n",
    "\n",
    "df = df.drop(columns=[\"Senior Hours\", \"Assistant Hours\", \"Planned number of Students\"])\n",
    "\n",
    "df_instances  = pd.read_csv(\"./data/Course_Instances.csv\")\n",
    "df = df.merge(\n",
    "    df_instances[['Course_code', 'Instance_id']],\n",
    "    left_on='Course',\n",
    "    right_on='Instance_id',\n",
    "    how='left'\n",
    ")\n",
    "df = df.drop(columns=[\"Instance_id\"])\n",
    "\n",
    "df.head()\n",
    "df.to_csv(\"./output/teach_hours_in_course_instance.csv\", index=False)"
   ]
  },
  {
   "cell_type": "code",
   "execution_count": null,
   "id": "4b462de5",
   "metadata": {},
   "outputs": [
    {
     "name": "stdout",
     "output_type": "stream",
     "text": [
      "Successfully inserted all data\n",
      "PREFIX :   <http://www.semanticweb.org/user/ontologies/2025/3/untitled-ontology-3/>\n",
      "PREFIX rdf: <http://www.w3.org/1999/02/22-rdf-syntax-ns#>\n",
      "PREFIX xsd: <http://www.w3.org/2001/XMLSchema#>\n",
      "INSERT DATA {\n",
      "  :19620522-0023_I-1 rdf:type                :TeacherHoursInCourseInstance ;\n",
      "          :assignedHours          \"300\"^^xsd:double ;\n",
      "          :reportedHours          \"227.0\"^^xsd:double ;\n",
      "          :TeacherHours     <http://www.semanticweb.org/user/ontologies/2025/3/untitled-ontology-3/19620522-0023> ;\n",
      "          :CourseInstanceHours     <http://www.semanticweb.org/user/ontologies/2025/3/untitled-ontology-3/1204_I-1> .\n",
      "  \n",
      "  :19790708-0041_I-1 rdf:type                :TeacherHoursInCourseInstance ;\n",
      "          :assignedHours          \"300\"^^xsd:double ;\n",
      "          :reportedHours          \"115.0\"^^xsd:double ;\n",
      "          :TeacherHours     <http://www.semanticweb.org/user/ontologies/2025/3/untitled-ontology-3/19790708-0041> ;\n",
      "          :CourseInstanceHours     <http://www.semanticweb.org/user/o\n"
     ]
    }
   ],
   "source": [
    "import pandas as pd\n",
    "import requests\n",
    "\n",
    "\n",
    "triples = []\n",
    "\n",
    "for _, row in df.iterrows():\n",
    "    tid_code = f\"{row['Teacher Id']}\".replace(\" \", \"_\")\n",
    "    ci_code = f\"{row['Course']}\".replace(\" \", \"_\")\n",
    "    subj = f\":{tid_code}_{ci_code}\"\n",
    "\n",
    "    c_code = f\"{row['Course code']}\".replace(\" \", \"_\")\n",
    "    course_instance_object = f\"{c_code}_{ci_code}\"\n",
    "\n",
    "\n",
    "    # subject\n",
    "    triples.append(f\"{subj} rdf:type                :TeacherHoursInCourseInstance ;\")\n",
    "\n",
    "    # Attributes\n",
    "    triples.append(f\"        :assignedHours          \\\"{row['Assigned Hours']}\\\"^^xsd:double ;\")\n",
    "    triples.append(f\"        :reportedHours          \\\"{row['Hours']}\\\"^^xsd:double ;\")\n",
    "\n",
    "    # \"Relations\"\n",
    "    triples.append(f\"        :TeacherHours     <{base_uri}{row['Teacher Id']}> ;\")\n",
    "    triples.append(f\"        :CourseInstanceHours     <{base_uri}{course_instance_object}> .\")\n",
    "    triples.append(\"\")  # blank line"
   ]
  },
  {
   "cell_type": "markdown",
   "id": "2ed0c3ae",
   "metadata": {},
   "source": [
    "# TODO\n",
    "\n",
    "- ProgrammeCourse (Done) (problem, our subject was not unique, added study year)\n",
    "- Course (Switch courseInCourseInstance)\n",
    "- CourseInstance (study period? missing)\n",
    "- Registration (Done)\n",
    "- TeacherHourseInCourseInstance"
   ]
  }
 ],
 "metadata": {
  "kernelspec": {
   "display_name": "base",
   "language": "python",
   "name": "python3"
  },
  "language_info": {
   "codemirror_mode": {
    "name": "ipython",
    "version": 3
   },
   "file_extension": ".py",
   "mimetype": "text/x-python",
   "name": "python",
   "nbconvert_exporter": "python",
   "pygments_lexer": "ipython3",
   "version": "3.11.5"
  }
 },
 "nbformat": 4,
 "nbformat_minor": 5
}
